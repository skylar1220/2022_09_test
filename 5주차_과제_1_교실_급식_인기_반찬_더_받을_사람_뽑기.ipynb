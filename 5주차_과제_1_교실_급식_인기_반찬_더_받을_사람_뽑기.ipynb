{
  "nbformat": 4,
  "nbformat_minor": 0,
  "metadata": {
    "colab": {
      "provenance": [],
      "authorship_tag": "ABX9TyMCrZtku/1fCkvc4ppbjDnv",
      "include_colab_link": true
    },
    "kernelspec": {
      "name": "python3",
      "display_name": "Python 3"
    },
    "language_info": {
      "name": "python"
    }
  },
  "cells": [
    {
      "cell_type": "markdown",
      "metadata": {
        "id": "view-in-github",
        "colab_type": "text"
      },
      "source": [
        "<a href=\"https://colab.research.google.com/github/skylar1220/2022_09_test/blob/main/5%EC%A3%BC%EC%B0%A8_%EA%B3%BC%EC%A0%9C_1_%EA%B5%90%EC%8B%A4_%EA%B8%89%EC%8B%9D_%EC%9D%B8%EA%B8%B0_%EB%B0%98%EC%B0%AC_%EB%8D%94_%EB%B0%9B%EC%9D%84_%EC%82%AC%EB%9E%8C_%EB%BD%91%EA%B8%B0.ipynb\" target=\"_parent\"><img src=\"https://colab.research.google.com/assets/colab-badge.svg\" alt=\"Open In Colab\"/></a>"
      ]
    },
    {
      "cell_type": "code",
      "source": [
        "import time\n",
        "import random\n",
        "\n",
        "answer = '네'\n",
        "while answer == '네' :\n",
        "  print('급식 더 받을 사람 뽑기가 시작됩니다.')\n",
        "  menu = input ('메뉴명을 입력하세요: ')\n",
        "  number = int(input( menu + '의 남은 수량을 입력해주세요: '))\n",
        "  student = int(input('더 받기를 희망하는 학생수를 적어주세요: '))\n",
        "\n",
        "  # 수정 전 코드\n",
        "  # a = range(1,student)+1)\n",
        "  # a = list(a)\n",
        "  # b = random.sample(a, int(number)) # \bsample을 random으로 교체하면 오류가 발생함\n",
        "\n",
        "  a = list(range(1,student+1))\n",
        "  random.shuffle(a)\n",
        "  a = a[:number] #tip: list이름 앞에 붙여서[:]하기!\n",
        "\n",
        "  # 수정 전 코드\n",
        "  # print( menu + '를 더 받을 학생은') # 아래 3줄을 한 문장으로 할 수는 없을까?: print( b + '번째 학생입니다') 로 하니 오류가 남\n",
        "  # print(b)\n",
        "  # print('번째 학생입니다~') \n",
        "\n",
        "  print(menu+' 메뉴를 더 받을 학생은 손 든 학생 중'+str(a)+'번째 학생입니다.')\n",
        "  time.sleep(1.5)\n",
        "  keep = input ('더 뽑으시겠습니까?(예/아니오): ')\n",
        "  if keep == '아니오' :\n",
        "    break"
      ],
      "metadata": {
        "colab": {
          "base_uri": "https://localhost:8080/"
        },
        "id": "1T9y8sDEPcC9",
        "outputId": "a2a27481-d32c-42cb-e6b9-550bee7ca34d"
      },
      "execution_count": null,
      "outputs": [
        {
          "name": "stdout",
          "output_type": "stream",
          "text": [
            "급식 더 받을 사람 뽑기가 시작됩니다.\n",
            "메뉴명을 입력하세요: 탕수육\n",
            "탕수육의 남은 수량을 입력해주세요: 2\n",
            "더 받기를 희망하는 학생수를 적어주세요: 5\n",
            "탕수육를 더 받을 학생은[4, 3]번째 학생입니다.\n",
            "더 뽑으시겠습니까?(예/아니오): 아니오\n"
          ]
        }
      ]
    },
    {
      "cell_type": "code",
      "source": [
        "[ 5주차 미션 제출 양식 ]\n",
        "1) 제 프로젝트의 주제 : 1. 교실 급식 - 인기 반찬 더 받을 사람 뽑기\n",
        "2) 프로젝트 코랩 링크 : https://colab.research.google.com/drive/16_9MJ1fkuBNJDD5PJRCZiakZRXlqh6_p?usp=sharing\n",
        "3) 내 깃헙 링크 : https://github.com/skylar1220\n",
        "\n"
      ],
      "metadata": {
        "id": "5BtFXGI3w9mk"
      },
      "execution_count": null,
      "outputs": []
    }
  ]
}